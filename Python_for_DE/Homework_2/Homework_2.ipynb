{
  "nbformat": 4,
  "nbformat_minor": 0,
  "metadata": {
    "colab": {
      "provenance": []
    },
    "kernelspec": {
      "name": "python3",
      "display_name": "Python 3"
    },
    "language_info": {
      "name": "python"
    }
  },
  "cells": [
    {
      "cell_type": "markdown",
      "source": [
        "**Дз 1**"
      ],
      "metadata": {
        "id": "d2W96Z_j1dsn"
      }
    },
    {
      "cell_type": "code",
      "execution_count": 38,
      "metadata": {
        "colab": {
          "base_uri": "https://localhost:8080/"
        },
        "id": "GxjhsiZH0eiI",
        "outputId": "bddebfad-dd6c-4d8a-ea77-847aed5b7657"
      },
      "outputs": [
        {
          "output_type": "stream",
          "name": "stdout",
          "text": [
            "2002-10-02 00:00:00 <class 'datetime.datetime'>\n",
            "2013-10-11 00:00:00 <class 'datetime.datetime'>\n",
            "1977-08-18 00:00:00 <class 'datetime.datetime'>\n"
          ]
        }
      ],
      "source": [
        "from datetime import datetime\n",
        "import pandas as pd\n",
        "\n",
        "first = datetime.strptime(\"Wednesday, October 2, 2002\", '%A, %B %d, %Y')\n",
        "print(first, type(first))\n",
        "\n",
        "second = datetime.strptime(\"Friday, 11.10.13\", '%A, %d.%m.%y')\n",
        "print(second, type(second))\n",
        "\n",
        "third = datetime.strptime(\"Thursday, 18 August 1977\", '%A, %d %B %Y')\n",
        "print(third, type(third))"
      ]
    },
    {
      "cell_type": "markdown",
      "source": [
        "**Дз 2**"
      ],
      "metadata": {
        "id": "7JikJ_tB1iOh"
      }
    },
    {
      "cell_type": "code",
      "source": [
        "def date_range(start, end):\n",
        "  try:\n",
        "    start = datetime.strptime(start, '%Y-%m-%d')\n",
        "    end = datetime.strptime(end, '%Y-%m-%d')\n",
        "\n",
        "    range = pd.date_range(start=start, end=end, freq='D')\n",
        "    result = [date.strftime('%Y-%m-%d') for date in range]\n",
        "  except ValueError:\n",
        "    result = []\n",
        "  finally:\n",
        "    print(result)\n",
        "\n",
        "date_range(\"2022-02-30\", \"2022-02-31\")"
      ],
      "metadata": {
        "colab": {
          "base_uri": "https://localhost:8080/"
        },
        "id": "bQ1mDHMp1lN5",
        "outputId": "ea97b748-8ed0-4923-c901-d88104694cbf"
      },
      "execution_count": 55,
      "outputs": [
        {
          "output_type": "stream",
          "name": "stdout",
          "text": [
            "[]\n"
          ]
        }
      ]
    }
  ]
}