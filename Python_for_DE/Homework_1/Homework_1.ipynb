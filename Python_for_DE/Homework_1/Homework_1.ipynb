{
  "nbformat": 4,
  "nbformat_minor": 0,
  "metadata": {
    "colab": {
      "provenance": []
    },
    "kernelspec": {
      "name": "python3",
      "display_name": "Python 3"
    },
    "language_info": {
      "name": "python"
    }
  },
  "cells": [
    {
      "cell_type": "markdown",
      "source": [
        "**Дз1**"
      ],
      "metadata": {
        "id": "R8nNkpDCj6f1"
      }
    },
    {
      "cell_type": "code",
      "source": [
        "\n",
        "\n",
        "import pandas as pd\n",
        "import csv\n",
        "\n",
        "data = pd.read_json('purchase_log.txt', lines=True)\n",
        "data = data[(data['user_id'] != 'user_id') & (data['category'] != 'category')]\n",
        "data = data.set_index('user_id')['category'].to_dict()\n",
        "\n",
        "print(data)"
      ],
      "metadata": {
        "id": "hSatufSnkA0k"
      },
      "execution_count": null,
      "outputs": []
    },
    {
      "cell_type": "markdown",
      "source": [
        "**Дз2**"
      ],
      "metadata": {
        "id": "cROGtB9Qph8X"
      }
    },
    {
      "cell_type": "code",
      "source": [
        "result = [['user_id', 'source', 'category']]\n",
        "\n",
        "with open('Visit_log.csv', 'r', encoding='utf-8') as file:\n",
        "  user_id = data.keys()\n",
        "\n",
        "  for line in file:\n",
        "    lines = line.split(',')\n",
        "\n",
        "    if lines[0] in user_id:\n",
        "      lines[1] = lines[1].strip()\n",
        "      result.append([lines[0], lines[1], data[lines[0]]])\n",
        "\n",
        "with open('funnel.csv', 'w', newline='', encoding='utf-8') as file:\n",
        "    writer = csv.writer(file)\n",
        "    writer.writerows(result)\n"
      ],
      "metadata": {
        "id": "1n11eWePpm7X"
      },
      "execution_count": null,
      "outputs": []
    }
  ]
}