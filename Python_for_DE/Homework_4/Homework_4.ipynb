{
  "nbformat": 4,
  "nbformat_minor": 0,
  "metadata": {
    "colab": {
      "provenance": []
    },
    "kernelspec": {
      "name": "python3",
      "display_name": "Python 3"
    },
    "language_info": {
      "name": "python"
    }
  },
  "cells": [
    {
      "cell_type": "markdown",
      "source": [
        "**Дз1**"
      ],
      "metadata": {
        "id": "R8nNkpDCj6f1"
      }
    },
    {
      "cell_type": "code",
      "source": [
        "import re\n",
        "\n",
        "def is_valid_vehicle_number(vehicle_num):\n",
        "    valid_letters = 'АВЕКМНОРСТУХ'\n",
        "    pattern = r'^([' + valid_letters + r'])(\\d{3})([' + valid_letters + r']{2})(0[1-9]|[1-9]\\d|[1-9]\\d{2})$'\n",
        "\n",
        "    match = re.match(pattern, vehicle_num)\n",
        "    if match:\n",
        "        return f\"Номер {vehicle_num} валиден. Регион: {match.group(4)}.\"\n",
        "    else:\n",
        "        return f\"Номер не невалиден.\"\n",
        "\n",
        "print(is_valid_vehicle_number('А222ВС96'))\n",
        "print(is_valid_vehicle_number('АБ22ВВ193'))"
      ],
      "metadata": {
        "id": "hSatufSnkA0k",
        "colab": {
          "base_uri": "https://localhost:8080/"
        },
        "outputId": "4d9dcd2e-e3c6-4e93-e766-5b73265dc8d5"
      },
      "execution_count": 93,
      "outputs": [
        {
          "output_type": "stream",
          "name": "stdout",
          "text": [
            "Номер А222ВС96 валиден. Регион: 96.\n",
            "Номер не невалиден.\n"
          ]
        }
      ]
    },
    {
      "cell_type": "markdown",
      "source": [
        "**Дз2**"
      ],
      "metadata": {
        "id": "cROGtB9Qph8X"
      }
    },
    {
      "cell_type": "code",
      "source": [
        "def remove_consecutive_duplicates(text):\n",
        "    pattern = r'\\b(\\w+)\\b\\s*(?:\\s+\\1\\b\\s*)+'\n",
        "\n",
        "    result = re.sub(pattern, r'\\1 ', text)\n",
        "\n",
        "    result = re.sub(r'\\s+', ' ', result).strip()\n",
        "    result = re.sub(r' ,', ',', result).strip()\n",
        "\n",
        "    return result\n",
        "\n",
        "string = 'Напишите функцию функцию, которая будет будет будет будет удалять все все все все последовательные повторы слов из из из из заданной строки строки при помощи регулярных выражений'\n",
        "\n",
        "result = remove_consecutive_duplicates(string)\n",
        "print(\"Исходная строка: \" + string +'\\nРезультат: ' + result)"
      ],
      "metadata": {
        "id": "1n11eWePpm7X",
        "colab": {
          "base_uri": "https://localhost:8080/"
        },
        "outputId": "8acadcd8-3784-44e4-9421-121897514bc6"
      },
      "execution_count": 106,
      "outputs": [
        {
          "output_type": "stream",
          "name": "stdout",
          "text": [
            "Исходная строка: Напишите функцию функцию, которая будет будет будет будет удалять все все все все последовательные повторы слов из из из из заданной строки строки при помощи регулярных выражений\n",
            "Результат: Напишите функцию, которая будет будет удалять все все последовательные повторы слов из из заданной строки при помощи регулярных выражений\n"
          ]
        }
      ]
    }
  ]
}